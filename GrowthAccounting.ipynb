{
 "cells": [
  {
   "cell_type": "code",
   "execution_count": null,
   "metadata": {},
   "outputs": [],
   "source": [
    "import pandas as pd\n",
    "import matplotlib.pyplot as plt\n",
    "\n",
    "\n",
    "# Load data\n",
    "pwt1001 = pd.read_stata('https://dataverse.nl/api/access/datafile/354098')\n",
    "\n",
    "# Filter and select relevant columns\n",
    "countries = ['Australia', 'Austria', 'Belgium', 'Canada', 'Denmark', 'Finland', 'France', 'Germany', 'Greece', 'Iceland', 'Ireland', 'Italy', 'Japan', 'Netherlands', 'New Zealand', 'Norway', 'Portugal', 'Spain', 'Sweden', 'Switzerland', 'United Kingdom', 'United States']\n",
    "data = pwt1001.loc[pwt1001['country'].isin(countries)][['year', 'countrycode', 'country', 'rgdpna', 'rkna', 'pop', 'emp', 'avh', 'labsh', 'rtfpna']]\n",
    "data = data.loc[(data['year'] >= 1975) & (data['year'] <= 2015)].dropna()\n",
    "\n",
    "# Calculate additional variables\n",
    "data['alpha'] = 1 - data['labsh']\n",
    "data['y_n'] = data['rgdpna'] / data['emp']  # Y/N\n",
    "data['hours'] = data['emp'] * data['avh']  # L\n",
    "data['tfp_term'] = data['rtfpna'] ** (1 / (1 - data['alpha']))  # A^(1/(1-alpha))\n",
    "data['cap_term'] = (data['rkna'] / data['rgdpna']) ** (data['alpha'] / (1 - data['alpha']))  # (K/Y)^(alpha/(1-alpha))\n",
    "data['lab_term'] = data['hours'] / data['pop']  # L/N\n",
    "data = data.sort_values('year').groupby('countrycode').apply(lambda x: x.assign(\n",
    "    alpha=1 - x['labsh'],\n",
    "    y_n_shifted=100 * x['y_n'] / x['y_n'].iloc[0],\n",
    "    tfp_term_shifted=100 * x['tfp_term'] / x['tfp_term'].iloc[0],\n",
    "    cap_term_shifted=100 * x['cap_term'] / x['cap_term'].iloc[0],\n",
    "    lab_term_shifted=100 * x['lab_term'] / x['lab_term'].iloc[0]\n",
    ")).reset_index(drop=True).dropna()\n",
    "\n",
    "# Print first 10 rows of data\n",
    "print(data.head(3))\n",
    "\n",
    "# Plot data\n",
    "plt.plot(data['year'], data['y_n_shifted'], label='y_n_shifted')\n",
    "plt.plot(data['year'], data['tfp_term_shifted'], label='tfp_term_shifted')\n",
    "plt.plot(data['year'], data['cap_term_shifted'], label='cap_term_shifted')\n",
    "plt.plot(data['year'], data['lab_term_shifted'], label='lab_term_shifted')\n",
    "plt.legend()\n",
    "plt.show()\n"
   ]
  }
 ],
 "metadata": {
  "language_info": {
   "name": "python"
  }
 },
 "nbformat": 4,
 "nbformat_minor": 2
}
