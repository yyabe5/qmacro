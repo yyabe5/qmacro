{
 "cells": [
  {
   "cell_type": "code",
   "execution_count": null,
   "metadata": {},
   "outputs": [
    {
     "ename": "",
     "evalue": "",
     "output_type": "error",
     "traceback": [
      "\u001b[1;31m'Python 3.12.3' でセルを実行するには、 ipykernel パッケージが必要です。\n",
      "\u001b[1;31m次のコマンドを実行して、'ipykernel' を Python 環境にインストールします。\n",
      "\u001b[1;31mコマンド: 'c:/Users/knk55/AppData/Local/Microsoft/WindowsApps/python3.12.exe -m pip install ipykernel -U --user --force-reinstall'"
     ]
    }
   ],
   "source": [
    "import pandas as pd\n",
    "import pandas_datareader.data as web\n",
    "import matplotlib.pyplot as plt\n",
    "import statsmodels.api as sm\n",
    "import pandas_datareader as pdr\n",
    "import numpy as np\n",
    "\n",
    "# set the start and end dates for the data\n",
    "start_date = '1960-01-01'\n",
    "end_date = '2022-01-01'\n",
    "\n",
    "# download the data from FRED using pandas_datareader\n",
    "japan_gdp = web.DataReader('GDPC1', 'fred', start_date, end_date)\n",
    "china_gdp = web.DataReader('MKTGDPCNA646NWDB', 'fred', start_date, end_date)\n",
    "log_japan_gdp = np.log(japan_gdp)\n",
    "log_china_gdp = np.log(china_gdp)\n",
    "\n",
    "# calculate the quarterly percent change in real GDP\n",
    "japan_gdp_pct_change = japan_gdp.pct_change(4)\n",
    "china_gdp_pct_change = china_gdp.pct_change(4)\n",
    "\n",
    "# apply a Hodrick-Prescott filter to the data to extract the cyclical component\n",
    "japan_cycle = sm.tsa.filters.hpfilter(log_japan_gdp)\n",
    "china_cycle = sm.tsa.filters.hpfilter(log_japan_gdp)\n",
    "\n",
    "# Plot the original time series data\n",
    "plt.plot(log_japan_gdp, label=\"Japan GDP (in log)\")\n",
    "plt.plot(log_china_gdp, label=\"China GDP (in log)\")\n",
    "\n",
    "# Add a legend and show the plot\n",
    "plt.legend()\n",
    "plt.show()\n",
    "\n"
   ]
  }
 ],
 "metadata": {
  "kernelspec": {
   "display_name": "Python 3",
   "language": "python",
   "name": "python3"
  },
  "language_info": {
   "name": "python",
   "version": "3.12.3"
  }
 },
 "nbformat": 4,
 "nbformat_minor": 2
}
